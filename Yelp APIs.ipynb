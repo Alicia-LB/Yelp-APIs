{
 "cells": [
  {
   "cell_type": "markdown",
   "id": "bdc2fbf1",
   "metadata": {},
   "source": [
    "# Efficient Yelp API Calls\n",
    "\n",
    "- use the Yelp API to search your favorite city for a cuisine type of your choice.\n",
    "\n",
    "- Extract all of the results from your search and compile them into one dataframe using a for loop as shown in the lesson \"Code for Efficient API Extraction\"\n",
    "\n",
    "## Import libraries"
   ]
  },
  {
   "cell_type": "code",
   "execution_count": 1,
   "id": "cc569127",
   "metadata": {},
   "outputs": [],
   "source": [
    "# Standard Imports\n",
    "import numpy as np\n",
    "import pandas as pd\n",
    "import matplotlib.pyplot as plt\n",
    "import seaborn as sns\n",
    "# Additional Imports\n",
    "import os, json, math, time\n",
    "from yelpapi import YelpAPI\n",
    "from tqdm.notebook import tqdm_notebook"
   ]
  },
  {
   "cell_type": "markdown",
   "id": "295fe964",
   "metadata": {},
   "source": [
    "## API login creds"
   ]
  },
  {
   "cell_type": "code",
   "execution_count": 2,
   "id": "56642436",
   "metadata": {},
   "outputs": [],
   "source": [
    "# Load API Credentials\n",
    "with open('/Users/alicia/.secret/yelp_api.json') as f:   #use your path here!\n",
    "    login = json.load(f)"
   ]
  },
  {
   "cell_type": "code",
   "execution_count": 3,
   "id": "ae234500",
   "metadata": {},
   "outputs": [],
   "source": [
    "# Instantiate YelpAPI Variable\n",
    "yelp_api = YelpAPI(login['api-key'], timeout_s=5.0)"
   ]
  },
  {
   "cell_type": "markdown",
   "id": "9a609baa",
   "metadata": {},
   "source": [
    "## Defining terms of search"
   ]
  },
  {
   "cell_type": "code",
   "execution_count": 5,
   "id": "e85169b3",
   "metadata": {},
   "outputs": [],
   "source": [
    "# set our API call parameters and filename before the first call\n",
    "LOCATION = 'Tallahasse, FL,32302'\n",
    "TERM = 'Sushi'"
   ]
  },
  {
   "cell_type": "code",
   "execution_count": 6,
   "id": "3c33abdd",
   "metadata": {},
   "outputs": [
    {
     "data": {
      "text/plain": [
       "'Data/results_in_progress_sushi.json'"
      ]
     },
     "execution_count": 6,
     "metadata": {},
     "output_type": "execute_result"
    }
   ],
   "source": [
    "# Specifying JSON_FILE filename \n",
    "JSON_FILE = f\"Data/results_in_progress_sushi.json\"\n",
    "JSON_FILE"
   ]
  },
  {
   "cell_type": "code",
   "execution_count": 7,
   "id": "aac444fb",
   "metadata": {},
   "outputs": [
    {
     "name": "stdout",
     "output_type": "stream",
     "text": [
      "[i] Data/results_in_progress_sushi.json not found. Saving empty list to file.\n"
     ]
    }
   ],
   "source": [
    "## Check if JSON_FILE exists\n",
    "file_exists = os.path.isfile(JSON_FILE)\n",
    "## If it does not exist: \n",
    "if file_exists == False:\n",
    "    \n",
    "    ## CREATE ANY NEEDED FOLDERS\n",
    "    # Get the Folder Name only\n",
    "    folder = os.path.dirname(JSON_FILE)\n",
    "    ## If JSON_FILE included a folder:\n",
    "    if len(folder)>0:\n",
    "        # create the folder\n",
    "        os.makedirs(folder,exist_ok=True)\n",
    "        \n",
    "        \n",
    "    ## INFORM USER AND SAVE EMPTY LIST\n",
    "    print(f\"[i] {JSON_FILE} not found. Saving empty list to file.\")\n",
    "    \n",
    "    \n",
    "    ## save the first page of results\n",
    "    with open(JSON_FILE,'w') as f:\n",
    "        json.dump([],f)  \n",
    "## If it exists, inform user\n",
    "else:\n",
    "    print(f\"[i] {JSON_FILE} already exists.\")"
   ]
  },
  {
   "cell_type": "code",
   "execution_count": 8,
   "id": "b27ce22d",
   "metadata": {},
   "outputs": [
    {
     "name": "stdout",
     "output_type": "stream",
     "text": [
      "- 0 previous results found.\n"
     ]
    }
   ],
   "source": [
    "## Load previous results and use len of results for offset\n",
    "with open(JSON_FILE,'r') as f:\n",
    "    previous_results = json.load(f)\n",
    "    \n",
    "## set offset based on previous results\n",
    "n_results = len(previous_results)\n",
    "print(f'- {n_results} previous results found.')"
   ]
  },
  {
   "cell_type": "code",
   "execution_count": 9,
   "id": "ab561dac",
   "metadata": {},
   "outputs": [
    {
     "data": {
      "text/plain": [
       "dict_keys(['businesses', 'total', 'region'])"
      ]
     },
     "execution_count": 9,
     "metadata": {},
     "output_type": "execute_result"
    }
   ],
   "source": [
    "# use our yelp_api variable's search_query method to perform our API call\n",
    "results = yelp_api.search_query(location=LOCATION,\n",
    "                                term=TERM,\n",
    "                               offset=n_results)\n",
    "results.keys()"
   ]
  },
  {
   "cell_type": "code",
   "execution_count": 10,
   "id": "405d9ea3",
   "metadata": {},
   "outputs": [
    {
     "data": {
      "text/plain": [
       "5"
      ]
     },
     "execution_count": 10,
     "metadata": {},
     "output_type": "execute_result"
    }
   ],
   "source": [
    "## How many results total?\n",
    "total_results = results['total']\n",
    "total_results"
   ]
  },
  {
   "cell_type": "code",
   "execution_count": 11,
   "id": "4d03458c",
   "metadata": {},
   "outputs": [
    {
     "data": {
      "text/plain": [
       "5"
      ]
     },
     "execution_count": 11,
     "metadata": {},
     "output_type": "execute_result"
    }
   ],
   "source": [
    "## How many did we get the details for?\n",
    "results_per_page = len(results['businesses'])\n",
    "results_per_page"
   ]
  },
  {
   "cell_type": "code",
   "execution_count": 14,
   "id": "eb75ec33",
   "metadata": {},
   "outputs": [
    {
     "data": {
      "text/plain": [
       "1"
      ]
     },
     "execution_count": 14,
     "metadata": {},
     "output_type": "execute_result"
    }
   ],
   "source": [
    "# Use math.ceil to round up for the total number of pages of results.\n",
    "n_pages = math.ceil((results['total']-n_results)/ results_per_page)\n",
    "n_pages"
   ]
  },
  {
   "cell_type": "code",
   "execution_count": 15,
   "id": "a9165ccd",
   "metadata": {},
   "outputs": [],
   "source": [
    "# join new results with old list with extend and save to file\n",
    "previous_results.extend(results['businesses'])  \n",
    "with open(JSON_FILE,'w') as f:\n",
    "     json.dump(previous_results,f)"
   ]
  },
  {
   "cell_type": "code",
   "execution_count": 16,
   "id": "e7484158",
   "metadata": {},
   "outputs": [
    {
     "data": {
      "application/vnd.jupyter.widget-view+json": {
       "model_id": "8fbbca8b93314e37a368818e1d4a4a09",
       "version_major": 2,
       "version_minor": 0
      },
      "text/plain": [
       "  0%|          | 0/1 [00:00<?, ?it/s]"
      ]
     },
     "metadata": {},
     "output_type": "display_data"
    }
   ],
   "source": [
    "for i in tqdm_notebook(range(n_pages)):\n",
    "    # adds 200 ms pause\n",
    "    time.sleep(.2) \n"
   ]
  },
  {
   "cell_type": "code",
   "execution_count": 17,
   "id": "b9447c44",
   "metadata": {},
   "outputs": [
    {
     "data": {
      "application/vnd.jupyter.widget-view+json": {
       "model_id": "559825332122488f9cfc029b79254e09",
       "version_major": 2,
       "version_minor": 0
      },
      "text/plain": [
       "  0%|          | 0/1 [00:00<?, ?it/s]"
      ]
     },
     "metadata": {},
     "output_type": "display_data"
    }
   ],
   "source": [
    "for i in tqdm_notebook( range(1,n_pages+1)):\n",
    "    time.sleep(.2)\n",
    "    ## Read in results in progress file and check the length\n",
    "    with open(JSON_FILE, 'r') as f:\n",
    "        previous_results = json.load(f)\n",
    "    ## save number of results for to use as offset\n",
    "    n_results = len(previous_results)\n",
    "    ## use n_results as the OFFSET \n",
    "    results = yelp_api.search_query(location=LOCATION,\n",
    "                                    term=TERM, \n",
    "                                    offset=n_results)\n",
    "    \n",
    "    ## append new results and save to file\n",
    "    previous_results.extend(results['businesses'])\n",
    "    \n",
    "#     display(previous_results)\n",
    "    with open(JSON_FILE,'w') as f:\n",
    "        json.dump(previous_results,f)"
   ]
  },
  {
   "cell_type": "markdown",
   "id": "f345fe67",
   "metadata": {},
   "source": [
    "## Making dataframe"
   ]
  },
  {
   "cell_type": "code",
   "execution_count": 18,
   "id": "f0a92b93",
   "metadata": {},
   "outputs": [
    {
     "data": {
      "text/html": [
       "<div>\n",
       "<style scoped>\n",
       "    .dataframe tbody tr th:only-of-type {\n",
       "        vertical-align: middle;\n",
       "    }\n",
       "\n",
       "    .dataframe tbody tr th {\n",
       "        vertical-align: top;\n",
       "    }\n",
       "\n",
       "    .dataframe thead th {\n",
       "        text-align: right;\n",
       "    }\n",
       "</style>\n",
       "<table border=\"1\" class=\"dataframe\">\n",
       "  <thead>\n",
       "    <tr style=\"text-align: right;\">\n",
       "      <th></th>\n",
       "      <th>id</th>\n",
       "      <th>alias</th>\n",
       "      <th>name</th>\n",
       "      <th>image_url</th>\n",
       "      <th>is_closed</th>\n",
       "      <th>url</th>\n",
       "      <th>review_count</th>\n",
       "      <th>categories</th>\n",
       "      <th>rating</th>\n",
       "      <th>coordinates</th>\n",
       "      <th>transactions</th>\n",
       "      <th>location</th>\n",
       "      <th>phone</th>\n",
       "      <th>display_phone</th>\n",
       "      <th>distance</th>\n",
       "      <th>price</th>\n",
       "    </tr>\n",
       "  </thead>\n",
       "  <tbody>\n",
       "    <tr>\n",
       "      <th>0</th>\n",
       "      <td>3ZgIHvi0Qjba_VHBC8cGKw</td>\n",
       "      <td>chuck-s-fish-tallahassee</td>\n",
       "      <td>Chuck’s Fish</td>\n",
       "      <td>https://s3-media3.fl.yelpcdn.com/bphoto/kgJ24l...</td>\n",
       "      <td>False</td>\n",
       "      <td>https://www.yelp.com/biz/chuck-s-fish-tallahas...</td>\n",
       "      <td>39</td>\n",
       "      <td>[{'alias': 'sushi', 'title': 'Sushi Bars'}, {'...</td>\n",
       "      <td>4.0</td>\n",
       "      <td>{'latitude': 30.4408853, 'longitude': -84.279891}</td>\n",
       "      <td>[]</td>\n",
       "      <td>{'address1': '224 E College Ave', 'address2': ...</td>\n",
       "      <td>18505977506</td>\n",
       "      <td>(850) 597-7506</td>\n",
       "      <td>99.223465</td>\n",
       "      <td>NaN</td>\n",
       "    </tr>\n",
       "    <tr>\n",
       "      <th>1</th>\n",
       "      <td>taxvnCs9oFC1VQJ86TW9Bg</td>\n",
       "      <td>straw-hat-poke-tallahassee</td>\n",
       "      <td>Straw Hat Poke</td>\n",
       "      <td>https://s3-media1.fl.yelpcdn.com/bphoto/4O6pcE...</td>\n",
       "      <td>False</td>\n",
       "      <td>https://www.yelp.com/biz/straw-hat-poke-tallah...</td>\n",
       "      <td>20</td>\n",
       "      <td>[{'alias': 'bubbletea', 'title': 'Bubble Tea'}...</td>\n",
       "      <td>4.5</td>\n",
       "      <td>{'latitude': 30.43638, 'longitude': -84.29203}</td>\n",
       "      <td>[delivery, pickup]</td>\n",
       "      <td>{'address1': '631 W Madison St', 'address2': '...</td>\n",
       "      <td>18502222012</td>\n",
       "      <td>(850) 222-2012</td>\n",
       "      <td>1252.007668</td>\n",
       "      <td>NaN</td>\n",
       "    </tr>\n",
       "    <tr>\n",
       "      <th>2</th>\n",
       "      <td>bxQ8E1S0-2721rlxOoB54w</td>\n",
       "      <td>roboto-tokyo-grill-tallahassee-2</td>\n",
       "      <td>Roboto Tokyo Grill</td>\n",
       "      <td>https://s3-media2.fl.yelpcdn.com/bphoto/snMiO-...</td>\n",
       "      <td>False</td>\n",
       "      <td>https://www.yelp.com/biz/roboto-tokyo-grill-ta...</td>\n",
       "      <td>1</td>\n",
       "      <td>[{'alias': 'japanese', 'title': 'Japanese'}, {...</td>\n",
       "      <td>5.0</td>\n",
       "      <td>{'latitude': 30.43459315789246, 'longitude': -...</td>\n",
       "      <td>[delivery, pickup]</td>\n",
       "      <td>{'address1': '825 Railroad Ave', 'address2': '...</td>\n",
       "      <td>18509992700</td>\n",
       "      <td>(850) 999-2700</td>\n",
       "      <td>1084.308303</td>\n",
       "      <td>NaN</td>\n",
       "    </tr>\n",
       "    <tr>\n",
       "      <th>3</th>\n",
       "      <td>-GJBOfd2izzd1359hBDDRQ</td>\n",
       "      <td>andrews-downtown-tallahassee</td>\n",
       "      <td>Andrew's Downtown</td>\n",
       "      <td>https://s3-media4.fl.yelpcdn.com/bphoto/UvZS95...</td>\n",
       "      <td>False</td>\n",
       "      <td>https://www.yelp.com/biz/andrews-downtown-tall...</td>\n",
       "      <td>186</td>\n",
       "      <td>[{'alias': 'tradamerican', 'title': 'American ...</td>\n",
       "      <td>3.5</td>\n",
       "      <td>{'latitude': 30.44018, 'longitude': -84.28231}</td>\n",
       "      <td>[delivery]</td>\n",
       "      <td>{'address1': '228 S Adams St', 'address2': '',...</td>\n",
       "      <td>18502223444</td>\n",
       "      <td>(850) 222-3444</td>\n",
       "      <td>222.809954</td>\n",
       "      <td>$$</td>\n",
       "    </tr>\n",
       "    <tr>\n",
       "      <th>4</th>\n",
       "      <td>dfkdeh_Y2e8dUdHFg9vIKw</td>\n",
       "      <td>greenwise-market-tallahassee</td>\n",
       "      <td>GreenWise Market</td>\n",
       "      <td>https://s3-media1.fl.yelpcdn.com/bphoto/8KmFSH...</td>\n",
       "      <td>False</td>\n",
       "      <td>https://www.yelp.com/biz/greenwise-market-tall...</td>\n",
       "      <td>43</td>\n",
       "      <td>[{'alias': 'grocery', 'title': 'Grocery'}]</td>\n",
       "      <td>4.5</td>\n",
       "      <td>{'latitude': 30.43487, 'longitude': -84.29161}</td>\n",
       "      <td>[]</td>\n",
       "      <td>{'address1': '625 W Gaines St', 'address2': ''...</td>\n",
       "      <td>18505771915</td>\n",
       "      <td>(850) 577-1915</td>\n",
       "      <td>1256.333835</td>\n",
       "      <td>$$</td>\n",
       "    </tr>\n",
       "  </tbody>\n",
       "</table>\n",
       "</div>"
      ],
      "text/plain": [
       "                       id                             alias  \\\n",
       "0  3ZgIHvi0Qjba_VHBC8cGKw          chuck-s-fish-tallahassee   \n",
       "1  taxvnCs9oFC1VQJ86TW9Bg        straw-hat-poke-tallahassee   \n",
       "2  bxQ8E1S0-2721rlxOoB54w  roboto-tokyo-grill-tallahassee-2   \n",
       "3  -GJBOfd2izzd1359hBDDRQ      andrews-downtown-tallahassee   \n",
       "4  dfkdeh_Y2e8dUdHFg9vIKw      greenwise-market-tallahassee   \n",
       "\n",
       "                 name                                          image_url  \\\n",
       "0        Chuck’s Fish  https://s3-media3.fl.yelpcdn.com/bphoto/kgJ24l...   \n",
       "1      Straw Hat Poke  https://s3-media1.fl.yelpcdn.com/bphoto/4O6pcE...   \n",
       "2  Roboto Tokyo Grill  https://s3-media2.fl.yelpcdn.com/bphoto/snMiO-...   \n",
       "3   Andrew's Downtown  https://s3-media4.fl.yelpcdn.com/bphoto/UvZS95...   \n",
       "4    GreenWise Market  https://s3-media1.fl.yelpcdn.com/bphoto/8KmFSH...   \n",
       "\n",
       "   is_closed                                                url  review_count  \\\n",
       "0      False  https://www.yelp.com/biz/chuck-s-fish-tallahas...            39   \n",
       "1      False  https://www.yelp.com/biz/straw-hat-poke-tallah...            20   \n",
       "2      False  https://www.yelp.com/biz/roboto-tokyo-grill-ta...             1   \n",
       "3      False  https://www.yelp.com/biz/andrews-downtown-tall...           186   \n",
       "4      False  https://www.yelp.com/biz/greenwise-market-tall...            43   \n",
       "\n",
       "                                          categories  rating  \\\n",
       "0  [{'alias': 'sushi', 'title': 'Sushi Bars'}, {'...     4.0   \n",
       "1  [{'alias': 'bubbletea', 'title': 'Bubble Tea'}...     4.5   \n",
       "2  [{'alias': 'japanese', 'title': 'Japanese'}, {...     5.0   \n",
       "3  [{'alias': 'tradamerican', 'title': 'American ...     3.5   \n",
       "4         [{'alias': 'grocery', 'title': 'Grocery'}]     4.5   \n",
       "\n",
       "                                         coordinates        transactions  \\\n",
       "0  {'latitude': 30.4408853, 'longitude': -84.279891}                  []   \n",
       "1     {'latitude': 30.43638, 'longitude': -84.29203}  [delivery, pickup]   \n",
       "2  {'latitude': 30.43459315789246, 'longitude': -...  [delivery, pickup]   \n",
       "3     {'latitude': 30.44018, 'longitude': -84.28231}          [delivery]   \n",
       "4     {'latitude': 30.43487, 'longitude': -84.29161}                  []   \n",
       "\n",
       "                                            location        phone  \\\n",
       "0  {'address1': '224 E College Ave', 'address2': ...  18505977506   \n",
       "1  {'address1': '631 W Madison St', 'address2': '...  18502222012   \n",
       "2  {'address1': '825 Railroad Ave', 'address2': '...  18509992700   \n",
       "3  {'address1': '228 S Adams St', 'address2': '',...  18502223444   \n",
       "4  {'address1': '625 W Gaines St', 'address2': ''...  18505771915   \n",
       "\n",
       "    display_phone     distance price  \n",
       "0  (850) 597-7506    99.223465   NaN  \n",
       "1  (850) 222-2012  1252.007668   NaN  \n",
       "2  (850) 999-2700  1084.308303   NaN  \n",
       "3  (850) 222-3444   222.809954    $$  \n",
       "4  (850) 577-1915  1256.333835    $$  "
      ]
     },
     "metadata": {},
     "output_type": "display_data"
    },
    {
     "data": {
      "text/html": [
       "<div>\n",
       "<style scoped>\n",
       "    .dataframe tbody tr th:only-of-type {\n",
       "        vertical-align: middle;\n",
       "    }\n",
       "\n",
       "    .dataframe tbody tr th {\n",
       "        vertical-align: top;\n",
       "    }\n",
       "\n",
       "    .dataframe thead th {\n",
       "        text-align: right;\n",
       "    }\n",
       "</style>\n",
       "<table border=\"1\" class=\"dataframe\">\n",
       "  <thead>\n",
       "    <tr style=\"text-align: right;\">\n",
       "      <th></th>\n",
       "      <th>id</th>\n",
       "      <th>alias</th>\n",
       "      <th>name</th>\n",
       "      <th>image_url</th>\n",
       "      <th>is_closed</th>\n",
       "      <th>url</th>\n",
       "      <th>review_count</th>\n",
       "      <th>categories</th>\n",
       "      <th>rating</th>\n",
       "      <th>coordinates</th>\n",
       "      <th>transactions</th>\n",
       "      <th>location</th>\n",
       "      <th>phone</th>\n",
       "      <th>display_phone</th>\n",
       "      <th>distance</th>\n",
       "      <th>price</th>\n",
       "    </tr>\n",
       "  </thead>\n",
       "  <tbody>\n",
       "    <tr>\n",
       "      <th>5</th>\n",
       "      <td>3ZgIHvi0Qjba_VHBC8cGKw</td>\n",
       "      <td>chuck-s-fish-tallahassee</td>\n",
       "      <td>Chuck’s Fish</td>\n",
       "      <td>https://s3-media3.fl.yelpcdn.com/bphoto/kgJ24l...</td>\n",
       "      <td>False</td>\n",
       "      <td>https://www.yelp.com/biz/chuck-s-fish-tallahas...</td>\n",
       "      <td>39</td>\n",
       "      <td>[{'alias': 'sushi', 'title': 'Sushi Bars'}, {'...</td>\n",
       "      <td>4.0</td>\n",
       "      <td>{'latitude': 30.4408853, 'longitude': -84.279891}</td>\n",
       "      <td>[]</td>\n",
       "      <td>{'address1': '224 E College Ave', 'address2': ...</td>\n",
       "      <td>18505977506</td>\n",
       "      <td>(850) 597-7506</td>\n",
       "      <td>99.223465</td>\n",
       "      <td>NaN</td>\n",
       "    </tr>\n",
       "    <tr>\n",
       "      <th>6</th>\n",
       "      <td>taxvnCs9oFC1VQJ86TW9Bg</td>\n",
       "      <td>straw-hat-poke-tallahassee</td>\n",
       "      <td>Straw Hat Poke</td>\n",
       "      <td>https://s3-media1.fl.yelpcdn.com/bphoto/4O6pcE...</td>\n",
       "      <td>False</td>\n",
       "      <td>https://www.yelp.com/biz/straw-hat-poke-tallah...</td>\n",
       "      <td>20</td>\n",
       "      <td>[{'alias': 'bubbletea', 'title': 'Bubble Tea'}...</td>\n",
       "      <td>4.5</td>\n",
       "      <td>{'latitude': 30.43638, 'longitude': -84.29203}</td>\n",
       "      <td>[delivery, pickup]</td>\n",
       "      <td>{'address1': '631 W Madison St', 'address2': '...</td>\n",
       "      <td>18502222012</td>\n",
       "      <td>(850) 222-2012</td>\n",
       "      <td>1252.007668</td>\n",
       "      <td>NaN</td>\n",
       "    </tr>\n",
       "    <tr>\n",
       "      <th>7</th>\n",
       "      <td>bxQ8E1S0-2721rlxOoB54w</td>\n",
       "      <td>roboto-tokyo-grill-tallahassee-2</td>\n",
       "      <td>Roboto Tokyo Grill</td>\n",
       "      <td>https://s3-media2.fl.yelpcdn.com/bphoto/snMiO-...</td>\n",
       "      <td>False</td>\n",
       "      <td>https://www.yelp.com/biz/roboto-tokyo-grill-ta...</td>\n",
       "      <td>1</td>\n",
       "      <td>[{'alias': 'japanese', 'title': 'Japanese'}, {...</td>\n",
       "      <td>5.0</td>\n",
       "      <td>{'latitude': 30.43459315789246, 'longitude': -...</td>\n",
       "      <td>[delivery, pickup]</td>\n",
       "      <td>{'address1': '825 Railroad Ave', 'address2': '...</td>\n",
       "      <td>18509992700</td>\n",
       "      <td>(850) 999-2700</td>\n",
       "      <td>1084.308303</td>\n",
       "      <td>NaN</td>\n",
       "    </tr>\n",
       "    <tr>\n",
       "      <th>8</th>\n",
       "      <td>-GJBOfd2izzd1359hBDDRQ</td>\n",
       "      <td>andrews-downtown-tallahassee</td>\n",
       "      <td>Andrew's Downtown</td>\n",
       "      <td>https://s3-media4.fl.yelpcdn.com/bphoto/UvZS95...</td>\n",
       "      <td>False</td>\n",
       "      <td>https://www.yelp.com/biz/andrews-downtown-tall...</td>\n",
       "      <td>186</td>\n",
       "      <td>[{'alias': 'tradamerican', 'title': 'American ...</td>\n",
       "      <td>3.5</td>\n",
       "      <td>{'latitude': 30.44018, 'longitude': -84.28231}</td>\n",
       "      <td>[delivery]</td>\n",
       "      <td>{'address1': '228 S Adams St', 'address2': '',...</td>\n",
       "      <td>18502223444</td>\n",
       "      <td>(850) 222-3444</td>\n",
       "      <td>222.809954</td>\n",
       "      <td>$$</td>\n",
       "    </tr>\n",
       "    <tr>\n",
       "      <th>9</th>\n",
       "      <td>dfkdeh_Y2e8dUdHFg9vIKw</td>\n",
       "      <td>greenwise-market-tallahassee</td>\n",
       "      <td>GreenWise Market</td>\n",
       "      <td>https://s3-media1.fl.yelpcdn.com/bphoto/8KmFSH...</td>\n",
       "      <td>False</td>\n",
       "      <td>https://www.yelp.com/biz/greenwise-market-tall...</td>\n",
       "      <td>43</td>\n",
       "      <td>[{'alias': 'grocery', 'title': 'Grocery'}]</td>\n",
       "      <td>4.5</td>\n",
       "      <td>{'latitude': 30.43487, 'longitude': -84.29161}</td>\n",
       "      <td>[]</td>\n",
       "      <td>{'address1': '625 W Gaines St', 'address2': ''...</td>\n",
       "      <td>18505771915</td>\n",
       "      <td>(850) 577-1915</td>\n",
       "      <td>1256.333835</td>\n",
       "      <td>$$</td>\n",
       "    </tr>\n",
       "  </tbody>\n",
       "</table>\n",
       "</div>"
      ],
      "text/plain": [
       "                       id                             alias  \\\n",
       "5  3ZgIHvi0Qjba_VHBC8cGKw          chuck-s-fish-tallahassee   \n",
       "6  taxvnCs9oFC1VQJ86TW9Bg        straw-hat-poke-tallahassee   \n",
       "7  bxQ8E1S0-2721rlxOoB54w  roboto-tokyo-grill-tallahassee-2   \n",
       "8  -GJBOfd2izzd1359hBDDRQ      andrews-downtown-tallahassee   \n",
       "9  dfkdeh_Y2e8dUdHFg9vIKw      greenwise-market-tallahassee   \n",
       "\n",
       "                 name                                          image_url  \\\n",
       "5        Chuck’s Fish  https://s3-media3.fl.yelpcdn.com/bphoto/kgJ24l...   \n",
       "6      Straw Hat Poke  https://s3-media1.fl.yelpcdn.com/bphoto/4O6pcE...   \n",
       "7  Roboto Tokyo Grill  https://s3-media2.fl.yelpcdn.com/bphoto/snMiO-...   \n",
       "8   Andrew's Downtown  https://s3-media4.fl.yelpcdn.com/bphoto/UvZS95...   \n",
       "9    GreenWise Market  https://s3-media1.fl.yelpcdn.com/bphoto/8KmFSH...   \n",
       "\n",
       "   is_closed                                                url  review_count  \\\n",
       "5      False  https://www.yelp.com/biz/chuck-s-fish-tallahas...            39   \n",
       "6      False  https://www.yelp.com/biz/straw-hat-poke-tallah...            20   \n",
       "7      False  https://www.yelp.com/biz/roboto-tokyo-grill-ta...             1   \n",
       "8      False  https://www.yelp.com/biz/andrews-downtown-tall...           186   \n",
       "9      False  https://www.yelp.com/biz/greenwise-market-tall...            43   \n",
       "\n",
       "                                          categories  rating  \\\n",
       "5  [{'alias': 'sushi', 'title': 'Sushi Bars'}, {'...     4.0   \n",
       "6  [{'alias': 'bubbletea', 'title': 'Bubble Tea'}...     4.5   \n",
       "7  [{'alias': 'japanese', 'title': 'Japanese'}, {...     5.0   \n",
       "8  [{'alias': 'tradamerican', 'title': 'American ...     3.5   \n",
       "9         [{'alias': 'grocery', 'title': 'Grocery'}]     4.5   \n",
       "\n",
       "                                         coordinates        transactions  \\\n",
       "5  {'latitude': 30.4408853, 'longitude': -84.279891}                  []   \n",
       "6     {'latitude': 30.43638, 'longitude': -84.29203}  [delivery, pickup]   \n",
       "7  {'latitude': 30.43459315789246, 'longitude': -...  [delivery, pickup]   \n",
       "8     {'latitude': 30.44018, 'longitude': -84.28231}          [delivery]   \n",
       "9     {'latitude': 30.43487, 'longitude': -84.29161}                  []   \n",
       "\n",
       "                                            location        phone  \\\n",
       "5  {'address1': '224 E College Ave', 'address2': ...  18505977506   \n",
       "6  {'address1': '631 W Madison St', 'address2': '...  18502222012   \n",
       "7  {'address1': '825 Railroad Ave', 'address2': '...  18509992700   \n",
       "8  {'address1': '228 S Adams St', 'address2': '',...  18502223444   \n",
       "9  {'address1': '625 W Gaines St', 'address2': ''...  18505771915   \n",
       "\n",
       "    display_phone     distance price  \n",
       "5  (850) 597-7506    99.223465   NaN  \n",
       "6  (850) 222-2012  1252.007668   NaN  \n",
       "7  (850) 999-2700  1084.308303   NaN  \n",
       "8  (850) 222-3444   222.809954    $$  \n",
       "9  (850) 577-1915  1256.333835    $$  "
      ]
     },
     "metadata": {},
     "output_type": "display_data"
    }
   ],
   "source": [
    "# load final results\n",
    "final_df = pd.read_json(JSON_FILE)\n",
    "display(final_df.head(), final_df.tail())"
   ]
  },
  {
   "cell_type": "code",
   "execution_count": 36,
   "id": "8a07a308",
   "metadata": {},
   "outputs": [],
   "source": [
    "# save the final results to a compressed csv\n",
    "final_df.to_csv('Data/final_results_crab_cakes.csv.gz', compression='gzip',index=False)"
   ]
  },
  {
   "cell_type": "code",
   "execution_count": null,
   "id": "c26355a2",
   "metadata": {},
   "outputs": [],
   "source": []
  }
 ],
 "metadata": {
  "kernelspec": {
   "display_name": "Python (dojo-env)",
   "language": "python",
   "name": "dojo-env"
  },
  "language_info": {
   "codemirror_mode": {
    "name": "ipython",
    "version": 3
   },
   "file_extension": ".py",
   "mimetype": "text/x-python",
   "name": "python",
   "nbconvert_exporter": "python",
   "pygments_lexer": "ipython3",
   "version": "3.7.12"
  },
  "toc": {
   "base_numbering": 1,
   "nav_menu": {},
   "number_sections": false,
   "sideBar": true,
   "skip_h1_title": false,
   "title_cell": "Table of Contents",
   "title_sidebar": "Contents",
   "toc_cell": false,
   "toc_position": {},
   "toc_section_display": true,
   "toc_window_display": false
  }
 },
 "nbformat": 4,
 "nbformat_minor": 5
}
